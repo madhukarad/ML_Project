{
  "nbformat": 4,
  "nbformat_minor": 0,
  "metadata": {
    "colab": {
      "provenance": [],
      "authorship_tag": "ABX9TyMOlTSolDgh1bwbovfQ3YF2",
      "include_colab_link": true
    },
    "kernelspec": {
      "name": "python3",
      "display_name": "Python 3"
    },
    "language_info": {
      "name": "python"
    }
  },
  "cells": [
    {
      "cell_type": "markdown",
      "metadata": {
        "id": "view-in-github",
        "colab_type": "text"
      },
      "source": [
        "<a href=\"https://colab.research.google.com/github/madhukarad/ML_Project/blob/main/Neotraining.ipynb\" target=\"_parent\"><img src=\"https://colab.research.google.com/assets/colab-badge.svg\" alt=\"Open In Colab\"/></a>"
      ]
    },
    {
      "cell_type": "code",
      "execution_count": 2,
      "metadata": {
        "colab": {
          "base_uri": "https://localhost:8080/"
        },
        "id": "sQmjkpJo2qIU",
        "outputId": "2ab2c952-bbb7-4b1f-84f9-412cf785aeab"
      },
      "outputs": [
        {
          "output_type": "stream",
          "name": "stdout",
          "text": [
            "Collecting neo4j\n",
            "  Downloading neo4j-5.11.0.tar.gz (188 kB)\n",
            "\u001b[2K     \u001b[90m━━━━━━━━━━━━━━━━━━━━━━━━━━━━━━━━━━━━━━━\u001b[0m \u001b[32m188.4/188.4 kB\u001b[0m \u001b[31m3.7 MB/s\u001b[0m eta \u001b[36m0:00:00\u001b[0m\n",
            "\u001b[?25h  Installing build dependencies ... \u001b[?25l\u001b[?25hdone\n",
            "  Getting requirements to build wheel ... \u001b[?25l\u001b[?25hdone\n",
            "  Installing backend dependencies ... \u001b[?25l\u001b[?25hdone\n",
            "  Preparing metadata (pyproject.toml) ... \u001b[?25l\u001b[?25hdone\n",
            "Requirement already satisfied: pytz in /usr/local/lib/python3.10/dist-packages (from neo4j) (2023.3)\n",
            "Building wheels for collected packages: neo4j\n",
            "  Building wheel for neo4j (pyproject.toml) ... \u001b[?25l\u001b[?25hdone\n",
            "  Created wheel for neo4j: filename=neo4j-5.11.0-py3-none-any.whl size=259793 sha256=e7b1dfca58b42cf87461d64a8927eb5413d1c607429bc996c7d4c4551b7c2a9b\n",
            "  Stored in directory: /root/.cache/pip/wheels/5f/9b/72/d893916a92e5bd362c3c28dc8dacc060419009e5a8cebb9461\n",
            "Successfully built neo4j\n",
            "Installing collected packages: neo4j\n",
            "Successfully installed neo4j-5.11.0\n"
          ]
        }
      ],
      "source": [
        "!pip install neo4j"
      ]
    },
    {
      "cell_type": "code",
      "source": [
        "from neo4j import GraphDatabase\n",
        "# create connection to Neo4j instance\n",
        "graphdb = GraphDatabase.driver(\"neo4j+s://6ea65747.databases.neo4j.io\", auth=(\"neo4j\",\"MmlCAu5kMbMBzRCky9wsF_ICI5JpsFvw0WmINTiD-gI\"))"
      ],
      "metadata": {
        "id": "UzC1zJBl3NTp"
      },
      "execution_count": 3,
      "outputs": []
    },
    {
      "cell_type": "code",
      "source": [
        "#Search all nodes\n",
        "session = graphdb.session()\n",
        "q1 = \"MATCH(x) return(x)\"\n",
        "nodes= session.run(q1)\n",
        "for node in nodes:\n",
        "  print(node)"
      ],
      "metadata": {
        "id": "d9NyQV8smXiW"
      },
      "execution_count": 6,
      "outputs": []
    },
    {
      "cell_type": "code",
      "source": [
        "#Search all nodes with LIMIT\n",
        "session = graphdb.session()\n",
        "q1 = \"MATCH(x) return(x) LIMIT 10\"\n",
        "nodes= session.run(q1)\n",
        "for node in nodes:\n",
        "  print(node)"
      ],
      "metadata": {
        "colab": {
          "base_uri": "https://localhost:8080/"
        },
        "id": "mJOkK8KcnBpf",
        "outputId": "d7e44db0-67c9-4760-cada-6654a1520ed1"
      },
      "execution_count": 4,
      "outputs": [
        {
          "output_type": "stream",
          "name": "stdout",
          "text": [
            "<Record x=<Node element_id='4:1172f16d-6975-4fc7-bec9-334b141ea954:0' labels=frozenset() properties={}>>\n",
            "<Record x=<Node element_id='4:1172f16d-6975-4fc7-bec9-334b141ea954:1' labels=frozenset() properties={}>>\n",
            "<Record x=<Node element_id='4:1172f16d-6975-4fc7-bec9-334b141ea954:2' labels=frozenset() properties={}>>\n",
            "<Record x=<Node element_id='4:1172f16d-6975-4fc7-bec9-334b141ea954:3' labels=frozenset() properties={}>>\n",
            "<Record x=<Node element_id='4:1172f16d-6975-4fc7-bec9-334b141ea954:4' labels=frozenset({'Movie'}) properties={'tagline': 'Free your mind', 'title': 'The Matrix Reloaded', 'released': 2003}>>\n",
            "<Record x=<Node element_id='4:1172f16d-6975-4fc7-bec9-334b141ea954:5' labels=frozenset() properties={}>>\n",
            "<Record x=<Node element_id='4:1172f16d-6975-4fc7-bec9-334b141ea954:6' labels=frozenset() properties={}>>\n",
            "<Record x=<Node element_id='4:1172f16d-6975-4fc7-bec9-334b141ea954:7' labels=frozenset() properties={}>>\n",
            "<Record x=<Node element_id='4:1172f16d-6975-4fc7-bec9-334b141ea954:8' labels=frozenset({'Movie'}) properties={'tagline': 'Welcome to the Real World', 'title': 'The Matrix', 'released': 1999}>>\n",
            "<Record x=<Node element_id='4:1172f16d-6975-4fc7-bec9-334b141ea954:9' labels=frozenset({'Person'}) properties={'born': 1964, 'name': 'Keanu Reeves'}>>\n"
          ]
        }
      ]
    },
    {
      "cell_type": "code",
      "source": [
        "#Search all nodes with properties\n",
        "session = graphdb.session()\n",
        "q1 = \"MATCH(x) where x.name='David Mitchell' return(x) \"\n",
        "nodes= session.run(q1)\n",
        "for node in nodes:\n",
        "  print(node)"
      ],
      "metadata": {
        "colab": {
          "base_uri": "https://localhost:8080/"
        },
        "id": "-_4wecwdnsxC",
        "outputId": "7fb6d13b-3716-4b8e-ab97-9df22549b765"
      },
      "execution_count": 5,
      "outputs": [
        {
          "output_type": "stream",
          "name": "stdout",
          "text": [
            "<Record x=<Node element_id='4:1172f16d-6975-4fc7-bec9-334b141ea954:123' labels=frozenset({'Person'}) properties={'born': 1969, 'name': 'David Mitchell'}>>\n"
          ]
        }
      ]
    },
    {
      "cell_type": "code",
      "source": [
        "#delete every thing\n",
        "#session = graphdb.session()\n",
        "#q1 = \"MATCH(N) detach delete(N) \"\n"
      ],
      "metadata": {
        "id": "Rl82dNsUoD_1"
      },
      "execution_count": null,
      "outputs": []
    },
    {
      "cell_type": "code",
      "source": [
        "# Load CSV\n",
        "query = \"LOAD CSV WITH HEADERS FROM 'file:///data.csv' AS line"
      ],
      "metadata": {
        "colab": {
          "base_uri": "https://localhost:8080/",
          "height": 140
        },
        "id": "btkc4B4CmFL8",
        "outputId": "3b9129b2-fb43-450d-e49f-92163ebd668e"
      },
      "execution_count": 7,
      "outputs": [
        {
          "output_type": "error",
          "ename": "SyntaxError",
          "evalue": "ignored",
          "traceback": [
            "\u001b[0;36m  File \u001b[0;32m\"<ipython-input-7-531d8ffa9419>\"\u001b[0;36m, line \u001b[0;32m2\u001b[0m\n\u001b[0;31m    query = \"LOAD CSV WITH HEADERS FROM 'file:///data.csv' AS line\u001b[0m\n\u001b[0m            ^\u001b[0m\n\u001b[0;31mSyntaxError\u001b[0m\u001b[0;31m:\u001b[0m unterminated string literal (detected at line 2)\n"
          ]
        }
      ]
    }
  ]
}